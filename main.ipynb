import os
import torch
import gradio as gr
import pytesseract
from PIL import Image
import sympy
from sympy.parsing.sympy_parser import parse_expr
import matplotlib.pyplot as plt
import io
import numpy as np
import cv2
import re
from huggingface_hub import hf_hub_download
from langchain.llms import LlamaCpp
from langchain.prompts.prompt import PromptTemplate
import scipy.constants as constants

# ===== TESSERACT PATH (Topic #6 remains) =====
pytesseract.pytesseract.tesseract_cmd = r"C:\Program Files\Tesseract-OCR\tesseract.exe"

# ===== GRADE LEVEL CONFIG =====
GRADE_LEVELS = {
    'Grade 1-2': {
        'explanation_style': 'very simple language, step-by-step explanation, examples with everyday objects',
        'style_tone': 'friendly',
        'expanded_steps': True,
        'visualization_style': {
            'colors': ['red', 'blue', 'green', 'yellow'],
            'use_emojis': True,
            'use_grid': True,
            'font_size': 14
        }
    },
    'Grade 3-4': {
        'explanation_style': 'simple with examples, slightly more math terms',
        'style_tone': 'friendly',
        'expanded_steps': True,
        'visualization_style': {
            'colors': ['blue', 'green', 'orange', 'purple'],
            'use_emojis': True,
            'use_grid': True,
            'font_size': 12
        }
    },
    'Grade 5-6': {
        'explanation_style': 'detailed, uses intermediate vocabulary',
        'style_tone': 'neutral',
        'expanded_steps': True,
        'visualization_style': {
            'colors': ['navy', 'darkgreen', 'maroon', 'purple'],
            'use_emojis': False,
            'use_grid': True,
            'font_size': 11
        }
    },
    'Grade 7-8': {
        'explanation_style': 'more detailed mathematics, some advanced concepts introduced',
        'style_tone': 'neutral-academic',
        'expanded_steps': False,
        'visualization_style': {
            'colors': ['blue', 'red', 'teal', 'purple'],
            'use_emojis': False,
            'use_grid': True,
            'font_size': 10
        }
    },
    'Grade 9-12': {
        'explanation_style': 'advanced mathematical style, concise but thorough',
        'style_tone': 'academic',
        'expanded_steps': False,
        'visualization_style': {
            'colors': ['blue', 'red', 'green', 'purple'],
            'use_emojis': False,
            'use_grid': False,
            'font_size': 10
        }
    }
}

# ===== DETECT GPU & DOWNLOAD MODEL =====
has_gpu = torch.cuda.is_available()

if has_gpu:
    print("GPU detected! Using GPU-friendly model.")
    REPO_ID = "TheBloke/WizardMath-7B-V1.1-GGUF"
    MODEL_FILENAME = "wizardmath-7b-v1.1.Q4_0.gguf"
    DEVICE = "gpu"
else:
    print("No GPU available. Using CPU model.")
    REPO_ID = "TheBloke/WizardMath-7B-V1.0-GGML"
    MODEL_FILENAME = "wizardmath-7b-v1.0.ggmlv3.q4_0.bin"
    DEVICE = "cpu"

print("Downloading model from Hugging Face (if not already cached)...")
model_path = hf_hub_download(repo_id=REPO_ID, filename=MODEL_FILENAME, revision="main")
print(f"Model path: {model_path}")

# Initialize LLM
llm = LlamaCpp(
    model_path=model_path,
    n_ctx=2048,
    temperature=0.5,
    max_tokens=512,
    verbose=False,
    device=DEVICE
)

# ===== SIMPLE COMPLEXITY DETECTION =====
def detect_question_complexity(text: str) -> int:
    text_lower = text.lower()
    advanced_terms = [
        'derivative', 'integral', 'limit', 'logarithm', 'exponential',
        'matrix', 'vector', 'distribution', 'regression', 'theorem', 'theta',
        'probability', 'median', 'variance', 'standard deviation'
    ]
    count_advanced = sum(term in text_lower for term in advanced_terms)
    # Very naive approach
    if count_advanced > 3:
        return 5
    elif count_advanced > 1:
        return 4
    elif 'geometry' in text_lower or 'triangle' in text_lower or 'angle' in text_lower or 'trapezoid' in text_lower:
        return 3
    elif len(text_lower.split()) < 10:
        return 1
    return 2

# ===== PROBLEM-TYPE DETECTION (NOW WITH CALCULUS & STATS) =====
class MathProblemSolver:
    def __init__(self):
        self.patterns = {
            'calculus': r'\b(derivative|integral|limit|d\/dx|antiderivative|partial derivative)\b',
            'statistics': r'\b(probability|mean|median|mode|variance|standard deviation|distribution|regression|sample|data)\b',
            'trigonometry': r'\b(sin|cos|tan|theta|trig|radians)\b',
            'geometry': r'\b(triangle|circle|square|rectangle|area|volume|perimeter|angle|trapezoid)\b',
            'graphing': r'\b(plot|graph|coordinate|function)\b',
            'algebra': r'\b(solve|equation|variable|factor)\b',
            'basic_arithmetic': r'[\+\-\*/=]',
            'word_problem': r'\b(how many|what is|find the|calculate)\b'
        }

    def identify_problem_type(self, text: str) -> list:
        """
        We check for 'calculus' first, 'statistics' second, 
        then fallback to other categories if matched. 
        It's possible to detect multiple categories (e.g., "calc + trig").
        """
        text_lower = text.lower()
        found = []
        for ptype, pattern in self.patterns.items():
            if re.search(pattern, text_lower):
                found.append(ptype)
        if not found:
            found = ['word_problem']
        return found

    def preprocess_image(self, image):
        if isinstance(image, Image.Image):
            image_np = np.array(image)
        else:
            image_np = image

        if len(image_np.shape) == 3:
            gray = cv2.cvtColor(image_np, cv2.COLOR_RGB2GRAY)
        else:
            gray = image_np

        thresh = cv2.adaptiveThreshold(gray, 255, cv2.ADAPTIVE_THRESH_GAUSSIAN_C, 
                                       cv2.THRESH_BINARY, 11, 2)
        denoised = cv2.fastNlMeansDenoising(thresh)
        return Image.fromarray(denoised)

# ===== UTILITY: DECIDE VISUALS? =====
def should_create_visual(problem_types):
    # Let's say we only produce visuals for geometry or graphing
    if any(pt in ['geometry','graphing'] for pt in problem_types):
        return True
    return False

# ===== MAKE A SAMPLE VISUAL (if geometry, etc.) =====
def create_multiple_visuals(problem_types, text, grade_level):
    style = GRADE_LEVELS[grade_level]['visualization_style']
    images = []

    shapes_found = []
    text_l = text.lower()
    # If geometry is found, guess shapes
    if 'triangle' in text_l:
        shapes_found.append('triangle')
    if 'circle' in text_l:
        shapes_found.append('circle')
    if 'rectangle' in text_l or 'square' in text_l or 'trapezoid' in text_l:
        shapes_found.append('rectangle')  # or trapezoid shape, but let's skip for brevity
    if 'graphing' in problem_types:
        shapes_found.append('graph')

    if 'geometry' in problem_types and not shapes_found:
        shapes_found.append('triangle')  # fallback

    for shape in shapes_found:
        img = _draw_shape_or_graph(shape, style)
        if img is not None:
            images.append(img)

    return images

def _draw_shape_or_graph(shape, style):
    try:
        fig, ax = plt.subplots(figsize=(5,4))
        if shape == 'triangle':
            base = 10
            height = 6
            points = np.array([[0,0],[base,0],[base/2,height]])
            polygon = plt.Polygon(points, facecolor=style['colors'][0], alpha=0.3, edgecolor=style['colors'][1])
            ax.add_patch(polygon)
            if style['use_grid']:
                ax.plot([base/2,base/2],[0,height],'--',color=style['colors'][2])
            ax.set_xlim(-1, base+1)
            ax.set_ylim(-1, height+2)
            ax.set_aspect('equal')
            ax.set_title("Triangle", fontsize=style['font_size']+2)
            if style['use_grid']:
                plt.grid(alpha=0.3)
        elif shape == 'circle':
            radius = 5
            circle = plt.Circle((0,0), radius, facecolor=style['colors'][0],
                                alpha=0.3, edgecolor=style['colors'][1])
            ax.add_patch(circle)
            ax.set_xlim(-radius-1, radius+1)
            ax.set_ylim(-radius-1, radius+1)
            ax.set_aspect('equal')
            ax.set_title("Circle", fontsize=style['font_size']+2)
            if style['use_grid']:
                plt.grid(alpha=0.3)
        elif shape == 'rectangle':
            length, width = 8, 4
            rect = plt.Rectangle((0,0), length, width, 
                                 facecolor=style['colors'][0],
                                 alpha=0.3, edgecolor=style['colors'][1])
            ax.add_patch(rect)
            ax.set_xlim(-1, length+1)
            ax.set_ylim(-1, width+1)
            ax.set_aspect('equal')
            ax.set_title("Rectangle", fontsize=style['font_size']+2)
            if style['use_grid']:
                plt.grid(alpha=0.3)
        elif shape == 'graph':
            x = np.linspace(-5,5,200)
            y = x**2
            ax.plot(x,y, color=style['colors'][0])
            ax.set_title("Sample Graph: y = x^2", fontsize=style['font_size']+2)
            if style['use_grid']:
                plt.grid(alpha=0.3)

        buf = io.BytesIO()
        plt.savefig(buf, format='png', bbox_inches='tight', dpi=150)
        plt.close()
        buf.seek(0)
        return Image.open(buf)
    except Exception as e:
        print(f"Error drawing shape {shape}: {e}")
        return None


# ===== BUILD EXPLANATION PROMPT =====
def build_explanation_prompt(
    question_text: str,
    problem_types: list,
    grade_level: str,
    complexity_level: int
) -> str:
    """
    We now:
    - Include a "header" stating the recognized problem types ("This appears to be a calculus problem...").
    - If it includes 'calculus', 'statistics', or 'trigonometry', we instruct the LLM to show *every tiny step*.
    - Otherwise, fallback to the normal approach.
    """

    # Summarize which problem types
    type_str = ", ".join(problem_types)

    # Create a dynamic "header" line
    header_line = f"**Detected Problem Type(s):** {type_str}\n"

    # Grab grade-level style
    grade_info = GRADE_LEVELS[grade_level]
    style_description = grade_info['explanation_style']
    tone = grade_info['style_tone']
    expanded = grade_info['expanded_steps']

    # If advanced topics: calculus, trig, or stats, we override 'expanded_steps' to True (to ensure big step-by-step).
    if any(pt in ['calculus','trigonometry','statistics'] for pt in problem_types):
        # Force extremely detailed steps
        detail_instructions = (
            "Provide a very thorough, extremely detailed solution, showing every tiny calculation step, "
            "even if it might seem trivial. For instance, if you compute a derivative, show each rule applied. "
            "If you compute integrals, show partial fractions or substitution steps, etc. "
            "If you do a statistical operation (mean, variance), show the sum-of-values step explicitly. "
        )
    else:
        # Fallback: use 'expanded_steps' to decide how thorough
        if expanded:
            detail_instructions = (
                "Explain each minor calculation step carefully, using simpler vocabulary. "
                "Use everyday analogies if needed, and do NOT skip any important details."
            )
        else:
            detail_instructions = (
                "Provide a concise but thorough explanation. "
                "You can assume the student already knows basic arithmetic, so skip very trivial steps, "
                "but never skip essential logic for solving the problem."
            )

    no_direct_answer = (
        "IMPORTANT: Do NOT provide just a numeric or symbolic answer at the end. "
        "Give a short concluding statement or summary of the result (in words)."
    )

    avoid_repeats = (
        "Avoid repeating the entire problem text or final answer multiple times. "
        "Present a single introduction, step-by-step solution, and a final conclusion."
    )

    style_guidance = f"""
Please format your final explanation with:

1. A single introduction (short summary).
2. A heading: "**Step 1**", "**Step 2**", etc., for each major part.
3. Bullet points or sub-headings for smaller details.
4. Math code blocks (triple backticks) for equations.
5. A concluding statement (not just a lone numeric result).
"""

    # Combine everything into the prompt
    prompt = f"""
You are a math tutor with a {tone} style. The student is in {grade_level}.
Complexity level: {complexity_level}.
Problem Type(s): {type_str}

{header_line}

Question:
\"\"\"{question_text.strip()}\"\"\"

Tasks:
- {detail_instructions}
- {no_direct_answer}
- {avoid_repeats}

Explanation Style:
- {style_description}

{style_guidance}

Now produce your single, cohesive solution:
""".strip()

    return prompt


# ===== MAIN SOLVE FUNCTION =====
def solve_math_problem(image, grade_level):
    """
    1. OCR
    2. Identify problem types
    3. Detect complexity
    4. Build dynamic prompt (with big step if calculus, stats, or trig)
    5. Generate LLM explanation
    6. Possibly create visuals
    """
    try:
        solver = MathProblemSolver()

        # 1) OCR
        if image is not None:
            preprocessed_img = solver.preprocess_image(image)
            question_text = pytesseract.image_to_string(preprocessed_img)
        else:
            question_text = ""

        # 2) Problem type
        types_found = solver.identify_problem_type(question_text)

        # 3) Complexity
        complexity = detect_question_complexity(question_text)

        # 4) Build prompt
        prompt = build_explanation_prompt(
            question_text=question_text,
            problem_types=types_found,
            grade_level=grade_level,
            complexity_level=complexity
        )

        # 5) LLM explanation
        llm_explanation = llm(prompt)

        # 6) Visualization if geometry/graphing
        images = []
        if should_create_visual(types_found):
            images = create_multiple_visuals(types_found, question_text, grade_level)

        if len(images) == 0:
            return llm_explanation, None
        else:
            return llm_explanation, images[0]

    except Exception as e:
        return f"Error: {str(e)}", None


# ===== GRADIO UI =====
def main():
    with gr.Blocks() as demo:
        gr.Markdown("# Comprehensive Math Tutor\n\n"
                    "**Handles** arithmetic, algebra, geometry, trigonometry, calculus, and statistics. "
                    "Adapts explanation detail based on question type and student grade.")
        
        with gr.Row():
            image_input = gr.Image(label="Upload or Capture a Math Problem", type="pil")
            grade_dropdown = gr.Dropdown(
                choices=list(GRADE_LEVELS.keys()),
                value="Grade 5-6",
                label="Student Grade Level"
            )
        
        solve_btn = gr.Button("Solve!")
        explanation_out = gr.Markdown(label="Explanation (Step-by-Step, Single Conclusion)")
        visualization_out = gr.Image(label="Visual Aid (If geometry or graphing)")

        solve_btn.click(
            fn=solve_math_problem,
            inputs=[image_input, grade_dropdown],
            outputs=[explanation_out, visualization_out]
        )

    demo.launch()


if __name__ == "__main__":
    main()
